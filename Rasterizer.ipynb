{
 "cells": [
  {
   "cell_type": "markdown",
   "metadata": {},
   "source": [
    "# DIY software rasterizer\n",
    "## How-to https://github.com/ssloy/tinyrenderer/wiki by D. Sokolov "
   ]
  },
  {
   "cell_type": "markdown",
   "metadata": {},
   "source": [
    "### BeakerX 1.3.0 Java 11.0.1 "
   ]
  },
  {
   "cell_type": "markdown",
   "metadata": {},
   "source": [
    "##  Java part - JRasterizer library\n",
    "- core functionality\n",
    "- more easy code with a lot of cycles\n",
    "- each lesson extends previous"
   ]
  },
  {
   "cell_type": "markdown",
   "metadata": {},
   "source": [
    "##  Clojure part \n",
    "- parser for resource files\n",
    "- JRasterizer wrapper"
   ]
  },
  {
   "cell_type": "code",
   "execution_count": 1,
   "metadata": {},
   "outputs": [
    {
     "data": {
      "text/plain": [
       "{:major 1, :minor 9, :incremental 0, :qualifier nil}"
      ]
     },
     "execution_count": 1,
     "metadata": {},
     "output_type": "execute_result"
    }
   ],
   "source": [
    "(str *clojure-version*)"
   ]
  },
  {
   "cell_type": "markdown",
   "metadata": {},
   "source": [
    "# 0 - Intro"
   ]
  },
  {
   "cell_type": "markdown",
   "metadata": {},
   "source": [
    "### TODO\n",
    "* create and save image\n",
    "* setPixel method"
   ]
  },
  {
   "cell_type": "code",
   "execution_count": 2,
   "metadata": {},
   "outputs": [
    {
     "data": {
      "application/vnd.jupyter.widget-view+json": {
       "model_id": "18d56967-0b78-4846-8f75-ca4aa4307996",
       "version_major": 2,
       "version_minor": 0
      },
      "method": "display_data"
     },
     "metadata": {},
     "output_type": "display_data"
    }
   ],
   "source": [
    "%classpath add jar ./JRasterizer/build/libs/JRasterizer-0.1.0.jar"
   ]
  },
  {
   "cell_type": "code",
   "execution_count": 3,
   "metadata": {},
   "outputs": [
    {
     "data": {
      "text/plain": [
       "package JRasterizer;\n",
       "\n",
       "import java.awt.image.BufferedImage;\n",
       "import java.util.Arrays;\n",
       "\n",
       "public class Lesson0 {\n",
       "    BufferedImage bufferedImage;\n",
       "    int[] data;\n",
       "    int size;\n",
       "\n",
       "    public Lesson0(int size) {\n",
       "        this.size = size;\n",
       "        bufferedImage = new BufferedImage(size, size, BufferedImage.TYPE_INT_ARGB);\n",
       "        data = new int[size * size];\n",
       "        Arrays.fill(data, 0xff000000);\n",
       "    }\n",
       "\n",
       "    public void test()  {\n",
       "        setPixel(new int[]{1, 7}, 0xffff0000);\n",
       "        setPixel(new int[]{3, 9}, 0xff00ffff);\n",
       "        setPixel(new int[]{1, 1}, 0xff00ffff);\n",
       "        setPixel(new int[]{9, 6}, 0xff00ffff);\n",
       "        setPixel(new int[]{1, 2}, 0xffff0000);\n",
       "        setPixel(new int[]{7, 7}, 0xff00ff00);\n",
       "    }\n",
       "\n",
       "    public void setPixel(int[] point, int color){\n",
       "        if (0 <= point[0] && point[0] < size && 0 <= point[1] && point[1] < size) {\n",
       "            data[point[0] + size * (size - point[1] - 1)] = color;\n",
       "        }\n",
       "    }\n",
       "\n",
       "    public void flushImage(){\n",
       "        bufferedImage.setRGB(0, 0, size, size, data, 0, size);\n",
       "    }\n",
       "\n",
       "    public BufferedImage getBufferedImage(){\n",
       "        return bufferedImage;\n",
       "    }\n",
       "}\n",
       "\n"
      ]
     },
     "execution_count": 3,
     "metadata": {},
     "output_type": "execute_result"
    }
   ],
   "source": [
    "(-> \"jar:file:./JRasterizer/build/libs/JRasterizer-0.1.0-sources.jar!/JRasterizer/Lesson0.java\"\n",
    "  java.net.URL.\n",
    "  .openStream\n",
    "  slurp)"
   ]
  },
  {
   "cell_type": "markdown",
   "metadata": {},
   "source": [
    "### Commentaries\n",
    "- point is int array of x,y,z coordinates (maybe more)\n",
    "- z-coordinate really not used for this moment, and we can skip it\n",
    "- color is int32, for 0xff223344 : ff-alpha, 22-red, 33-green, 44-blue"
   ]
  },
  {
   "cell_type": "code",
   "execution_count": 4,
   "metadata": {},
   "outputs": [
    {
     "data": {
      "text/plain": [
       "class JRasterizer.Lesson0"
      ]
     },
     "execution_count": 4,
     "metadata": {},
     "output_type": "execute_result"
    }
   ],
   "source": [
    "(import '[JRasterizer Lesson0])"
   ]
  },
  {
   "cell_type": "code",
   "execution_count": 5,
   "metadata": {},
   "outputs": [
    {
     "data": {
      "text/plain": [
       "#'beaker_clojure_shell_f9c4172f-eeda-4daf-8cb6-3a3696a48033/save-image"
      ]
     },
     "execution_count": 5,
     "metadata": {},
     "output_type": "execute_result"
    }
   ],
   "source": [
    "(defn save-image [bi s]\n",
    "  (javax.imageio.ImageIO/write bi \"png\" (java.io.File. (str s \".png\"))))"
   ]
  },
  {
   "cell_type": "code",
   "execution_count": 6,
   "metadata": {},
   "outputs": [
    {
     "data": {
      "text/plain": [
       "true"
      ]
     },
     "execution_count": 6,
     "metadata": {},
     "output_type": "execute_result"
    }
   ],
   "source": [
    "(save-image \n",
    "  (let [pi (Lesson0. 10)]\n",
    "    (.test pi)\n",
    "    (.flushImage pi)\n",
    "    (.getBufferedImage pi))\n",
    "  \"img0\")"
   ]
  },
  {
   "cell_type": "code",
   "execution_count": null,
   "metadata": {},
   "outputs": [],
   "source": []
  },
  {
   "cell_type": "markdown",
   "metadata": {},
   "source": [
    "<p>img0.png</p>\n",
    "<img src=\"img0.png\" style=\"width:100px;height:100px;\">"
   ]
  },
  {
   "cell_type": "code",
   "execution_count": 7,
   "metadata": {},
   "outputs": [
    {
     "data": {
      "image/png": "[encoded data removed]",
      "text/plain": [
       "<IPython.core.display.Image object>"
      ]
     },
     "execution_count": 1,
     "metadata": {},
     "output_type": "execute_result"
    }
   ],
   "source": [
    "%%python\n",
    "from IPython.display import Image\n",
    "Image(\"img0.png\")"
   ]
  },
  {
   "cell_type": "markdown",
   "metadata": {},
   "source": [
    "# 1 - Wireframe render"
   ]
  },
  {
   "cell_type": "markdown",
   "metadata": {},
   "source": [
    "### TODO\n",
    "* parse model from .obj file\n",
    "* draw lines"
   ]
  },
  {
   "cell_type": "code",
   "execution_count": 8,
   "metadata": {},
   "outputs": [
    {
     "data": {
      "text/plain": [
       "package JRasterizer;\n",
       "\n",
       "public class Lesson1 extends Lesson0 {\n",
       "\n",
       "    public Lesson1(int size) {\n",
       "        super(size);\n",
       "    }\n",
       "\n",
       "    public void drawLine (int[] p1, int[] p2, int color) {\n",
       "        if (p1[1] == p2[1]){\n",
       "            for (int i=Math.min(p1[0], p2[0]); i<=Math.max(p1[0], p2[0]); i++){\n",
       "                setPixel(new int[]{i, p1[1]}, color);\n",
       "            }\n",
       "        } else if(Math.abs(p2[0] - p1[0]) > Math.abs(p2[1] - p1[1])){\n",
       "            float t = ((float) p2[1] - p1[1])/(p2[0] - p1[0]);\n",
       "            int startx = Math.min(p1[0], p2[0]);\n",
       "            int starty = t < 0 ? Math.max(p1[1], p2[1]) : Math.min(p1[1], p2[1]);\n",
       "            for (int i=0; i<= Math.abs(p1[0] - p2[0]); i++){\n",
       "                setPixel(new int[]{i + startx, (int) (i*t) + starty}, color);\n",
       "            }\n",
       "        } else {\n",
       "            float t = ((float) p2[0] - p1[0])/(p2[1] - p1[1]);\n",
       "            int starty = Math.min(p1[1], p2[1]);\n",
       "            int startx = t < 0 ? Math.max(p1[0], p2[0]) : Math.min(p1[0], p2[0]);\n",
       "            for (int i=0; i<= Math.abs(p1[1] - p2[1]); i++){\n",
       "                setPixel(new int[]{(int) (i*t) + startx, i + starty}, color);\n",
       "            }\n",
       "        }\n",
       "    }\n",
       "\n",
       "    public void test(){\n",
       "        drawLine(new int[]{11, 50}, new int[]{90, 70}, 0xffffffff);\n",
       "\n",
       "        drawLine(new int[]{100,100}, new int[]{190,100}, 0xffff00ff);\n",
       "        drawLine(new int[]{100,100}, new int[]{190,190}, 0xffff00ff);\n",
       "        drawLine(new int[]{100,100}, new int[]{190,10}, 0xffff00ff);\n",
       "        drawLine(new int[]{100,100}, new int[]{100,190}, 0xffff00ff);\n",
       "        drawLine(new int[]{100,100}, new int[]{100,10}, 0xffff00ff);\n",
       "\n",
       "        drawLine(new int[]{100,100}, new int[]{10,10}, 0xffff00ff);\n",
       "        drawLine(new int[]{100,100}, new int[]{10,100}, 0xffff00ff);\n",
       "        drawLine(new int[]{100,100}, new int[]{10,190}, 0xffff00ff);\n",
       "    }\n",
       "}\n"
      ]
     },
     "execution_count": 8,
     "metadata": {},
     "output_type": "execute_result"
    }
   ],
   "source": [
    "(-> \"jar:file:./JRasterizer/build/libs/JRasterizer-0.1.0-sources.jar!/JRasterizer/Lesson1.java\"\n",
    "  java.net.URL.\n",
    "  .openStream\n",
    "  slurp)"
   ]
  },
  {
   "cell_type": "markdown",
   "metadata": {},
   "source": [
    "### Commentaries\n",
    "- horizontal line with p1[1]=p2[1] y-coordinate is const, also checks lines with 0 length "
   ]
  },
  {
   "cell_type": "code",
   "execution_count": null,
   "metadata": {},
   "outputs": [],
   "source": []
  },
  {
   "cell_type": "code",
   "execution_count": 9,
   "metadata": {},
   "outputs": [
    {
     "data": {
      "image/png": "[encoded data removed]"
     },
     "execution_count": 9,
     "metadata": {},
     "output_type": "execute_result"
    }
   ],
   "source": [
    "(import '[JRasterizer Lesson1])\n",
    "\n",
    "(let [pi (Lesson1. 200)]\n",
    "    (.test pi)\n",
    "    (.drawLine pi (int-array [10 10]) (int-array [150 15]) 56)\n",
    "    (.flushImage pi)\n",
    "    (.getBufferedImage pi))"
   ]
  },
  {
   "cell_type": "code",
   "execution_count": 10,
   "metadata": {},
   "outputs": [
    {
     "name": "stdout",
     "output_type": "stream",
     "text": [
      "v -0.000581696 -0.734665 -0.623267\n",
      "v 0.000283538 -1 0.286843\n",
      "v -0.117277 -0.973564 0.306907\n",
      "v -0.382144 -0.890788 0.221243\n",
      "v -0.247144 -0.942602 0.276051\n",
      "v -0.656078 -0.718512 -0.109025\n",
      "v -0.609847 -0.786562 0.0198068\n",
      "v -0.66248 -0.632053 -0.244271\n",
      "v -0.511812 -0.845392 0.127809\n",
      "v -0.609326 -0.569868 -0.41571\n"
     ]
    },
    {
     "data": {
      "text/plain": [
       "null"
      ]
     },
     "execution_count": 10,
     "metadata": {},
     "output_type": "execute_result"
    }
   ],
   "source": [
    ";; TEST parser\n",
    "(defn handle-line [line]\n",
    "    (println line))\n",
    "\n",
    "(with-open  [rdr (clojure.java.io/reader \"./resources/african_head.obj\")]\n",
    "  (let [lines (line-seq rdr)]\n",
    "    (dorun\n",
    "     (map handle-line (take 10 lines)))))"
   ]
  },
  {
   "cell_type": "code",
   "execution_count": 11,
   "metadata": {},
   "outputs": [
    {
     "data": {
      "text/plain": [
       "#'beaker_clojure_shell_f9c4172f-eeda-4daf-8cb6-3a3696a48033/triangles"
      ]
     },
     "execution_count": 11,
     "metadata": {},
     "output_type": "execute_result"
    }
   ],
   "source": [
    "(def trans-vs (transient []))\n",
    "(def trans-fs (transient []))\n",
    "\n",
    "(defn handle-line [s]\n",
    "  (let [v (clojure.string/split s #\" \")]\n",
    "    (cond\n",
    "      (= \"v\" (first v)) (conj! trans-vs (map #(Double/parseDouble %) (rest v)))\n",
    "      (= \"f\" (first v)) (conj! trans-fs (map (comp #(Integer/parseInt %) #(re-find #\"^\\d+\" %)) (rest v)))\n",
    "      :else             nil)))\n",
    "\n",
    "\n",
    "(with-open  [rdr (clojure.java.io/reader \"./resources/african_head.obj\")]\n",
    "  (let [lines (line-seq rdr)]\n",
    "    (dorun\n",
    "     (map handle-line lines))))\n",
    "\n",
    "(def vs (persistent! trans-vs))  \n",
    "(def fs (persistent! trans-fs))\n",
    "\n",
    ";; Vertexes \n",
    "(def triangles \n",
    " (mapv \n",
    "   (fn [[a b c]] [(get vs (dec a)) (get vs (dec b)) (get vs (dec c))])\n",
    "   fs))"
   ]
  },
  {
   "cell_type": "code",
   "execution_count": 12,
   "metadata": {},
   "outputs": [
    {
     "data": {
      "text/plain": [
       "[[24, 25, 26], [24, 26, 23], [28, 29, 30], [28, 30, 27], [32, 33, 34]]"
      ]
     },
     "execution_count": 12,
     "metadata": {},
     "output_type": "execute_result"
    }
   ],
   "source": [
    "(take 5 fs) ; vertex indices"
   ]
  },
  {
   "cell_type": "code",
   "execution_count": 13,
   "metadata": {},
   "outputs": [
    {
     "data": {
      "text/plain": [
       "[[-5.81696E-4, -0.734665, -0.623267], [2.83538E-4, -1.0, 0.286843], [-0.117277, -0.973564, 0.306907]]"
      ]
     },
     "execution_count": 13,
     "metadata": {},
     "output_type": "execute_result"
    }
   ],
   "source": [
    "(take 3 vs) ; vertex coordinates"
   ]
  },
  {
   "cell_type": "code",
   "execution_count": 14,
   "metadata": {},
   "outputs": [
    {
     "data": {
      "text/plain": [
       "v -0.000581696 -0.734665 -0.623267\n",
       "v 0.000283538 -1 0.286843\n",
       "v -0.117277 -0.973564 0.306907\n",
       "v -0.382144 -0.890788 0.221243\n",
       "v -0.247144 -0.942602 0.276051\n",
       "v -0.656078 -0.718512 -0.109025\n",
       "v -0.609847 -0.786562 0.0198068\n",
       "v -0.66248 -0.632053 -0.244271\n",
       "v -0.511812 -0.845392 0.127809\n",
       "v -0.609326 -0.569868 -0.41571\n"
      ]
     },
     "execution_count": 14,
     "metadata": {},
     "output_type": "execute_result"
    }
   ],
   "source": [
    "(require '[clojure.java.shell :as shell])\n",
    "\n",
    "(:out (shell/sh \"head\" \"./resources/african_head.obj\"))"
   ]
  },
  {
   "cell_type": "code",
   "execution_count": null,
   "metadata": {},
   "outputs": [],
   "source": []
  },
  {
   "cell_type": "code",
   "execution_count": 15,
   "metadata": {},
   "outputs": [
    {
     "data": {
      "text/plain": [
       "[[[0.134781, -0.14723, 0.48805], [0.131261, -0.132153, 0.49872], [0.14749, -0.135105, 0.489565]], [[0.134781, -0.14723, 0.48805], [0.14749, -0.135105, 0.489565], [0.153371, -0.140519, 0.477416]]]"
      ]
     },
     "execution_count": 15,
     "metadata": {},
     "output_type": "execute_result"
    }
   ],
   "source": [
    "(take 2 triangles)"
   ]
  },
  {
   "cell_type": "markdown",
   "metadata": {},
   "source": [
    "- Triangle -> 3 points\n",
    "- Point -> [x,y,z] coordinates"
   ]
  },
  {
   "cell_type": "markdown",
   "metadata": {},
   "source": [
    "### Some transducers:\n",
    "Transducer - abstraction of transformation. It's like a transformation without an object."
   ]
  },
  {
   "cell_type": "code",
   "execution_count": 16,
   "metadata": {},
   "outputs": [
    {
     "data": {
      "text/plain": [
       "#'beaker_clojure_shell_f9c4172f-eeda-4daf-8cb6-3a3696a48033/scale300"
      ]
     },
     "execution_count": 16,
     "metadata": {},
     "output_type": "execute_result"
    }
   ],
   "source": [
    "(defn scale-points\n",
    "  [xsize]\n",
    "  (map (fn [point]\n",
    "        (map (fn [coordinate]\n",
    "               (map #(int (+ (* % 0.44 xsize) (/ xsize 2))) coordinate))\n",
    "              point))))\n",
    "\n",
    "(def scale300 (scale-points 300))"
   ]
  },
  {
   "cell_type": "markdown",
   "metadata": {},
   "source": [
    "If we apply scale300 to vector of triangles, each coordinate for each point for each triangle will be changed"
   ]
  },
  {
   "cell_type": "code",
   "execution_count": 17,
   "metadata": {},
   "outputs": [
    {
     "data": {
      "image/png": "[encoded data removed]"
     },
     "execution_count": 17,
     "metadata": {},
     "output_type": "execute_result"
    }
   ],
   "source": [
    "(let [pi (Lesson1. 300)]\n",
    "  (doseq [t (->> triangles\n",
    "                 (eduction scale300)\n",
    "                 (map #(map int-array %)))]\n",
    "    (.drawLine pi (first t)  (second t) 56) ; 56 is color \n",
    "    (.drawLine pi (second t) (last t)   56)\n",
    "    (.drawLine pi (first t)  (last t)   56))\n",
    " (.flushImage pi)\n",
    " (.getBufferedImage pi))"
   ]
  },
  {
   "cell_type": "code",
   "execution_count": 18,
   "metadata": {},
   "outputs": [
    {
     "data": {
      "text/plain": [
       "#'beaker_clojure_shell_f9c4172f-eeda-4daf-8cb6-3a3696a48033/rotate-angle"
      ]
     },
     "execution_count": 18,
     "metadata": {},
     "output_type": "execute_result"
    }
   ],
   "source": [
    "(defn rotate-angle \n",
    " [angle]\n",
    " (map \n",
    "   (fn [point] \n",
    "    (map (fn [[x y z]] \n",
    "             [(+ (* x (Math/cos (* angle 1/180 Math/PI)))\n",
    "                 (* z (Math/sin (* angle 1/180 Math/PI)))) y z]) \n",
    "         point))))                                 "
   ]
  },
  {
   "cell_type": "markdown",
   "metadata": {},
   "source": [
    "Now we can change and compose transducers"
   ]
  },
  {
   "cell_type": "code",
   "execution_count": 19,
   "metadata": {},
   "outputs": [
    {
     "data": {
      "image/png": "[encoded data removed]"
     },
     "execution_count": 19,
     "metadata": {},
     "output_type": "execute_result"
    }
   ],
   "source": [
    "(let [xsize 200\n",
    "      scale (scale-points xsize)\n",
    "      pi    (Lesson1. xsize)]\n",
    " (doseq [t (->> triangles\n",
    "                (eduction (comp (rotate-angle 90) scale))\n",
    "                (map #(map int-array %)))]\n",
    "      (.drawLine pi (first t)  (second t) 56)\n",
    "      (.drawLine pi (second t) (last t)   56)\n",
    "      (.drawLine pi (first t)  (last t)   56))\n",
    "    \n",
    "    (.flushImage pi)\n",
    "    (.getBufferedImage pi))"
   ]
  },
  {
   "cell_type": "code",
   "execution_count": null,
   "metadata": {},
   "outputs": [],
   "source": []
  },
  {
   "cell_type": "code",
   "execution_count": 20,
   "metadata": {},
   "outputs": [],
   "source": [
    "%import com.twosigma.beakerx.widget.IntSlider"
   ]
  },
  {
   "cell_type": "code",
   "execution_count": 21,
   "metadata": {},
   "outputs": [
    {
     "data": {
      "application/vnd.jupyter.widget-view+json": {
       "model_id": "2db589b3-a0ed-43e7-a67c-7be62e53666c",
       "version_major": 2,
       "version_minor": 0
      },
      "method": "display_data"
     },
     "metadata": {},
     "output_type": "display_data"
    }
   ],
   "source": [
    "(def slider (new com.twosigma.beakerx.widget.IntSlider))\n",
    "(.setDescription slider \"AngleLR\")\n",
    "(.setMin slider 0)\n",
    "(.setMax slider 360)\n",
    "slider"
   ]
  },
  {
   "cell_type": "code",
   "execution_count": 22,
   "metadata": {},
   "outputs": [
    {
     "data": {
      "text/plain": [
       "#'beaker_clojure_shell_f9c4172f-eeda-4daf-8cb6-3a3696a48033/draw-head"
      ]
     },
     "execution_count": 22,
     "metadata": {},
     "output_type": "execute_result"
    }
   ],
   "source": [
    "(defn draw-head []\n",
    "  (let [xsize 300\n",
    "        scale (scale-points xsize)\n",
    "        pi    (Lesson1. xsize)]\n",
    "    (doseq [t (->> triangles\n",
    "                (eduction (comp (rotate-angle (.getValue slider)) scale))\n",
    "                (map #(map int-array %)))]\n",
    "      (.drawLine pi (first t)  (second t) 56)\n",
    "      (.drawLine pi (second t) (last t)   56)\n",
    "      (.drawLine pi (first t)  (last t)   56))\n",
    "    \n",
    "    (.flushImage pi)\n",
    "    (.getBufferedImage pi)))"
   ]
  },
  {
   "cell_type": "code",
   "execution_count": null,
   "metadata": {},
   "outputs": [],
   "source": []
  },
  {
   "cell_type": "code",
   "execution_count": 23,
   "metadata": {},
   "outputs": [
    {
     "data": {
      "application/vnd.jupyter.widget-view+json": {
       "model_id": "2db589b3-a0ed-43e7-a67c-7be62e53666c",
       "version_major": 2,
       "version_minor": 0
      },
      "method": "display_data"
     },
     "metadata": {},
     "output_type": "display_data"
    }
   ],
   "source": [
    "slider"
   ]
  },
  {
   "cell_type": "code",
   "execution_count": 24,
   "metadata": {},
   "outputs": [
    {
     "data": {
      "image/png": "[encoded data removed]"
     },
     "execution_count": 24,
     "metadata": {},
     "output_type": "execute_result"
    }
   ],
   "source": [
    "(draw-head)"
   ]
  },
  {
   "cell_type": "markdown",
   "metadata": {},
   "source": [
    "# 2 - Filling triangles"
   ]
  },
  {
   "cell_type": "markdown",
   "metadata": {},
   "source": [
    "### TODO\n",
    "- work with colors\n",
    "- calculate colors by function"
   ]
  },
  {
   "cell_type": "code",
   "execution_count": 25,
   "metadata": {},
   "outputs": [
    {
     "data": {
      "text/plain": [
       "#'beaker_clojure_shell_f9c4172f-eeda-4daf-8cb6-3a3696a48033/hex->int"
      ]
     },
     "execution_count": 25,
     "metadata": {},
     "output_type": "execute_result"
    }
   ],
   "source": [
    ";; Util function\n",
    "(defn hex->int \n",
    "  \"converts long ints from 0 to 0xffffffff to int32\"\n",
    "  [i]\n",
    "  (if (>= i (bit-shift-left 1 31))\n",
    "    (bit-shift-right (bit-shift-left i 32) 32)\n",
    "    i))"
   ]
  },
  {
   "cell_type": "code",
   "execution_count": 26,
   "metadata": {},
   "outputs": [
    {
     "data": {
      "text/plain": [
       "-6"
      ]
     },
     "execution_count": 26,
     "metadata": {},
     "output_type": "execute_result"
    }
   ],
   "source": [
    ";; Example\n",
    "(hex->int 0xfffffffa)"
   ]
  },
  {
   "cell_type": "code",
   "execution_count": 27,
   "metadata": {},
   "outputs": [
    {
     "data": {
      "text/plain": [
       "package JRasterizer;\n",
       "\n",
       "import java.util.Arrays;\n",
       "import java.util.Comparator;\n",
       "\n",
       "public class Lesson2 extends Lesson1 {\n",
       "\n",
       "    int[] zbuffer = new int[size * size];\n",
       "\n",
       "    public Lesson2(int size) {\n",
       "        super(size);\n",
       "    }\n",
       "\n",
       "    public void drawTriangle(int[] p1, int[] p2, int[] p3, int color){\n",
       "        int[][] points = new int[3][3];\n",
       "        points[0] = p1;\n",
       "        points[1] = p2;\n",
       "        points[2] = p3;\n",
       "        Arrays.sort(points, Comparator.comparing(it -> it[1]));\n",
       "\n",
       "\n",
       "        double kb = (double) (points[2][0] - points[0][0])/(points[2][1] - points[0][1]);\n",
       "        double ka = (double) (points[2][0] - points[1][0])/(points[2][1] - points[1][1]);\n",
       "        double kc = (double) (points[1][0] - points[0][0])/(points[1][1] - points[0][1]);\n",
       "\n",
       "        for (int i = 0; i < points[1][1] - points[0][1]; i++){\n",
       "            drawLine(new int[]{points[0][0] + (int) (kb * i), points[0][1] + i, points[0][2]},\n",
       "                    new int[]{points[0][0] + (int) (kc * i), points[0][1] + i, points[0][2]}, color);\n",
       "        }\n",
       "        for (int i = 0; i <= points[2][1] - points[1][1]; i++){\n",
       "            drawLine(new int[]{points[2][0] - (int) (kb * i), points[2][1] - i, points[0][2]},\n",
       "                    new int[]{points[2][0] - (int) (ka * i), points[2][1] - i, points[0][2]}, color);\n",
       "        }\n",
       "        drawLine(p1, p2, color);\n",
       "        drawLine(p1, p3, color);\n",
       "        drawLine(p3, p2, color);\n",
       "    }\n",
       "\n",
       "    public void test(){\n",
       "        drawTriangle(new int[]{20, 20, 100},\n",
       "                     new int[]{50, 10, 100},\n",
       "                     new int[]{80, 40, 30}, 0xff00ffff);\n",
       "    }\n",
       "\n",
       "    public void setPixel(int[] point, int color){\n",
       "        if (0 <= point[0] && point[0] < size && 0 <= point[1] && point[1] < size && point[2] <= zbuffer[point[0] + size * (size - point[1] - 1)]) {\n",
       "            data[point[0] + size * (size - point[1] - 1)] = color;\n",
       "            zbuffer[point[0] + size * (size - point[1] - 1)] = point[2];\n",
       "        }\n",
       "    }\n",
       "\n",
       "    public void drawLine (int[] p1, int[] p2, int color) {\n",
       "        if (p1[1] == p2[1]){\n",
       "            for (int i=Math.min(p1[0], p2[0]); i<=Math.max(p1[0], p2[0]); i++){\n",
       "                setPixel(new int[]{i, p1[1], p1[2]}, color);\n",
       "            }\n",
       "        } else if(Math.abs(p2[0] - p1[0]) > Math.abs(p2[1] - p1[1])){\n",
       "            float t = ((float) p2[1] - p1[1])/(p2[0] - p1[0]);\n",
       "            int startx = Math.min(p1[0], p2[0]);\n",
       "            int starty = t < 0 ? Math.max(p1[1], p2[1]) : Math.min(p1[1], p2[1]);\n",
       "            for (int i=0; i<= Math.abs(p1[0] - p2[0]); i++){\n",
       "                setPixel(new int[]{i + startx, (int) (i*t) + starty, p1[2]}, color);\n",
       "            }\n",
       "        } else {\n",
       "            float t = ((float) p2[0] - p1[0])/(p2[1] - p1[1]);\n",
       "            int starty = Math.min(p1[1], p2[1]);\n",
       "            int startx = t < 0 ? Math.max(p1[0], p2[0]) : Math.min(p1[0], p2[0]);\n",
       "            for (int i=0; i<= Math.abs(p1[1] - p2[1]); i++){\n",
       "                setPixel(new int[]{(int) (i*t) + startx, i + starty, p1[2]}, color);\n",
       "            }\n",
       "        }\n",
       "    }\n",
       "}\n"
      ]
     },
     "execution_count": 27,
     "metadata": {},
     "output_type": "execute_result"
    }
   ],
   "source": [
    "(-> \"jar:file:./JRasterizer/build/libs/JRasterizer-0.1.0-sources.jar!/JRasterizer/Lesson2.java\"\n",
    "  java.net.URL.\n",
    "  .openStream\n",
    "  slurp)"
   ]
  },
  {
   "cell_type": "markdown",
   "metadata": {},
   "source": [
    "### Commentaries\n",
    "- now we start use 3 coordinates and expect points as arrays of size >= 3\n",
    "- points with all z=0 we can draw as before\n",
    "- if point have z>0 we don't see it."
   ]
  },
  {
   "cell_type": "code",
   "execution_count": 28,
   "metadata": {},
   "outputs": [
    {
     "data": {
      "image/png": "[encoded data removed]"
     },
     "execution_count": 28,
     "metadata": {},
     "output_type": "execute_result"
    }
   ],
   "source": [
    "(import '[JRasterizer Lesson2])\n",
    "\n",
    "(let [pi (Lesson2. 200)]\n",
    "    (.drawTriangle pi (int-array [10 10 0]) (int-array [150 15 0]) (int-array [50 90 0]) (hex->int 0xffffff00))\n",
    "    (.flushImage pi)\n",
    "    (.getBufferedImage pi))"
   ]
  },
  {
   "cell_type": "code",
   "execution_count": 29,
   "metadata": {},
   "outputs": [
    {
     "data": {
      "text/plain": [
       "#'beaker_clojure_shell_f9c4172f-eeda-4daf-8cb6-3a3696a48033/draw-head"
      ]
     },
     "execution_count": 29,
     "metadata": {},
     "output_type": "execute_result"
    }
   ],
   "source": [
    "(defn draw-head []\n",
    "  (let [xsize  300\n",
    "        color1 (hex->int 0xffffff00)\n",
    "        color2 (hex->int 0xffff0000)\n",
    "        scale  (scale-points xsize)\n",
    "        pi     (Lesson2. xsize)]\n",
    "    (doseq [t (->> triangles\n",
    "                (eduction (comp (rotate-angle (.getValue slider)) scale))\n",
    "                (map #(map (fn [[x y z]] [x y 0]) %))   \n",
    "                (map #(map int-array %)))]\n",
    "      (.drawTriangle pi (first t)  (second t) (last t) color1)\n",
    "      (.drawLine pi (first t)  (second t) color2)\n",
    "      (.drawLine pi (second t) (last t)   color2)\n",
    "      (.drawLine pi (first t)  (last t)   color2)\n",
    "        #_(println (aget (first t) 2)))\n",
    "    \n",
    "    (.flushImage pi)\n",
    "    (.getBufferedImage pi)))"
   ]
  },
  {
   "cell_type": "code",
   "execution_count": 30,
   "metadata": {},
   "outputs": [
    {
     "data": {
      "application/vnd.jupyter.widget-view+json": {
       "model_id": "2db589b3-a0ed-43e7-a67c-7be62e53666c",
       "version_major": 2,
       "version_minor": 0
      },
      "method": "display_data"
     },
     "metadata": {},
     "output_type": "display_data"
    }
   ],
   "source": [
    "slider"
   ]
  },
  {
   "cell_type": "code",
   "execution_count": 31,
   "metadata": {},
   "outputs": [
    {
     "data": {
      "image/png": "[encoded data removed]"
     },
     "execution_count": 31,
     "metadata": {},
     "output_type": "execute_result"
    }
   ],
   "source": [
    "(draw-head) "
   ]
  },
  {
   "cell_type": "code",
   "execution_count": 32,
   "metadata": {},
   "outputs": [
    {
     "data": {
      "text/plain": [
       "#'beaker_clojure_shell_f9c4172f-eeda-4daf-8cb6-3a3696a48033/rotate-angle-with-z"
      ]
     },
     "execution_count": 32,
     "metadata": {},
     "output_type": "execute_result"
    }
   ],
   "source": [
    "(defn rotate-angle-with-z \n",
    " [angle]\n",
    " (map \n",
    "   (fn [point] \n",
    "    (map (fn [[x y z]] \n",
    "             [(+ (* x (Math/cos (* angle 1/180 Math/PI)))\n",
    "                 (* z (Math/sin (* angle 1/180 Math/PI))))\n",
    "              y\n",
    "              (+ (* x (Math/sin (* angle 1/180 Math/PI)))\n",
    "                 (* z (Math/cos (* angle 1/180 Math/PI))))]) \n",
    "         point))))  "
   ]
  },
  {
   "cell_type": "code",
   "execution_count": 33,
   "metadata": {},
   "outputs": [
    {
     "data": {
      "application/vnd.jupyter.widget-view+json": {
       "model_id": "2db589b3-a0ed-43e7-a67c-7be62e53666c",
       "version_major": 2,
       "version_minor": 0
      },
      "method": "display_data"
     },
     "metadata": {},
     "output_type": "display_data"
    }
   ],
   "source": [
    "slider"
   ]
  },
  {
   "cell_type": "code",
   "execution_count": 34,
   "metadata": {},
   "outputs": [
    {
     "data": {
      "image/png": "[encoded data removed]"
     },
     "execution_count": 34,
     "metadata": {},
     "output_type": "execute_result"
    }
   ],
   "source": [
    "(let [xsize  300\n",
    "      color1 (hex->int 0xffffff00)\n",
    "      color2 (hex->int 0xffff0000)\n",
    "      scale  (scale-points xsize)\n",
    "      pi     (Lesson2. xsize)]\n",
    "  (doseq [t (->> triangles\n",
    "              (eduction (comp (rotate-angle-with-z (.getValue slider)) scale))\n",
    "              ;; Sorting is heavy operation\n",
    "              ;; We sort only by one point from triangle\n",
    "              (sort-by (fn [t] (last (first t))))  \n",
    "              (map #(map (fn [[x y z]] [x y 0]) %))                \n",
    "              (map #(map int-array %)))]\n",
    "    (.drawTriangle pi (first t)  (second t) (last t) color1)\n",
    "    (.drawLine pi (first t)  (second t) color2)\n",
    "    (.drawLine pi (second t) (last t)   color2)\n",
    "    (.drawLine pi (first t)  (last t)   color2))\n",
    "\n",
    "    (.flushImage pi)\n",
    "    (.getBufferedImage pi))"
   ]
  },
  {
   "cell_type": "code",
   "execution_count": 35,
   "metadata": {},
   "outputs": [
    {
     "data": {
      "application/vnd.jupyter.widget-view+json": {
       "model_id": "2db589b3-a0ed-43e7-a67c-7be62e53666c",
       "version_major": 2,
       "version_minor": 0
      },
      "method": "display_data"
     },
     "metadata": {},
     "output_type": "display_data"
    }
   ],
   "source": [
    "slider"
   ]
  },
  {
   "cell_type": "code",
   "execution_count": 36,
   "metadata": {},
   "outputs": [
    {
     "data": {
      "text/plain": [
       "#'beaker_clojure_shell_f9c4172f-eeda-4daf-8cb6-3a3696a48033/normalize"
      ]
     },
     "execution_count": 36,
     "metadata": {},
     "output_type": "execute_result"
    }
   ],
   "source": [
    "(defn normalize [[[f1 g1 h1] [f2 g2 h2] [f3 g3 h3]]]\n",
    "  (let [vx1 (- f1 f2)\n",
    "        vy1 (- g1 g2)\n",
    "        vz1 (- h1 h2)\n",
    "        vx2 (- f2 f3)\n",
    "        vy2 (- g2 g3)\n",
    "        vz2 (- h2 h3)]\n",
    "\n",
    "    [(- (* vy1 vz2) (* vy2 vz1))\n",
    "     (- (* vx1 vz2) (* vx2 vz1))\n",
    "     (- (* vy1 vx2) (* vy2 vx1))]))"
   ]
  },
  {
   "cell_type": "code",
   "execution_count": 37,
   "metadata": {},
   "outputs": [
    {
     "data": {
      "image/png": "[encoded data removed]"
     },
     "execution_count": 37,
     "metadata": {},
     "output_type": "execute_result"
    }
   ],
   "source": [
    "(let [xsize  400\n",
    "      color1 (hex->int 0xffffff00)\n",
    "      color2 (hex->int 0xffff0000)\n",
    "      scale  (scale-points xsize)\n",
    "      pi     (Lesson2. xsize)]\n",
    "  (doseq [t (->> triangles\n",
    "               \n",
    "              (eduction  (comp (rotate-angle 50) scale))\n",
    "              (map #(map (fn [[x y z]] [x y (+ (* z -1) 0)]) %))\n",
    "              (map #(map int-array %)))]\n",
    "    (.drawTriangle pi (first t) (second t) (last t) \n",
    "                   ;; calculate color function not ready for all angles\n",
    "                   (hex->int (+ 0xff000000  (int (* 256 (+ 60 (apply + (map * (normalize t) [0 0 -0.25])))))))))\n",
    "\n",
    "    (.flushImage pi)\n",
    "    (.getBufferedImage pi))"
   ]
  },
  {
   "cell_type": "code",
   "execution_count": 38,
   "metadata": {},
   "outputs": [
    {
     "data": {
      "image/png": "[encoded data removed]"
     },
     "execution_count": 38,
     "metadata": {},
     "output_type": "execute_result"
    }
   ],
   "source": [
    "(let [xsize  400\n",
    "      color1 (hex->int 0xffffff00)\n",
    "      color2 (hex->int 0xffff0000)\n",
    "      scale  (scale-points xsize)\n",
    "      pi     (Lesson2. xsize)]\n",
    "  (doseq [t (->> triangles\n",
    "               \n",
    "              (eduction  (comp (rotate-angle 50) scale))\n",
    "              (map #(map (fn [[x y z]] [x y (+ (* z -1) 240)]) %)) ; zBuffer works without sorting\n",
    "              (map #(map int-array %)))]\n",
    "    (.drawTriangle pi (first t) (second t) (last t) \n",
    "                   ;; calculate color function not ready for all angles\n",
    "                   (hex->int (+ 0xff000000  (int (* 256 (+ 60 (apply + (map * (normalize t) [0 0 -0.25])))))))))\n",
    "\n",
    "    (.flushImage pi)\n",
    "    (.getBufferedImage pi))"
   ]
  },
  {
   "cell_type": "code",
   "execution_count": 270,
   "metadata": {},
   "outputs": [
    {
     "data": {
      "image/png": "[encoded data removed]"
     },
     "execution_count": 270,
     "metadata": {},
     "output_type": "execute_result"
    }
   ],
   "source": [
    "(let [xsize  400\n",
    "      color1 (hex->int 0xffffff00)\n",
    "      color2 (hex->int 0xffff0000)\n",
    "      scale  (scale-points xsize)\n",
    "      pi     (Lesson2. xsize)]\n",
    "  (doseq [t (->> triangles\n",
    "               \n",
    "              (eduction  (comp (rotate-angle 10) scale))\n",
    "              (map #(map (fn [[x y z]] [x y (+ (* z -1) 0)]) %))\n",
    "              (map #(map int-array %)))]\n",
    "    (.drawTriangle pi (first t) (second t) (last t) \n",
    "                   ;; color not right\n",
    "                   (hex->int (- 0xff000000\n",
    "                                (Math/abs (int (* 20  (apply + (map * (normalize t) [0 0 -11])))))))))\n",
    "    (.flushImage pi)\n",
    "    (.getBufferedImage pi))"
   ]
  },
  {
   "cell_type": "code",
   "execution_count": null,
   "metadata": {},
   "outputs": [],
   "source": []
  },
  {
   "cell_type": "code",
   "execution_count": null,
   "metadata": {},
   "outputs": [],
   "source": []
  },
  {
   "cell_type": "code",
   "execution_count": null,
   "metadata": {},
   "outputs": [],
   "source": []
  },
  {
   "cell_type": "code",
   "execution_count": null,
   "metadata": {},
   "outputs": [],
   "source": []
  },
  {
   "cell_type": "code",
   "execution_count": null,
   "metadata": {},
   "outputs": [],
   "source": []
  },
  {
   "cell_type": "code",
   "execution_count": null,
   "metadata": {},
   "outputs": [],
   "source": []
  },
  {
   "cell_type": "code",
   "execution_count": null,
   "metadata": {},
   "outputs": [],
   "source": []
  },
  {
   "cell_type": "code",
   "execution_count": null,
   "metadata": {},
   "outputs": [],
   "source": []
  },
  {
   "cell_type": "code",
   "execution_count": null,
   "metadata": {},
   "outputs": [],
   "source": []
  },
  {
   "cell_type": "code",
   "execution_count": null,
   "metadata": {},
   "outputs": [],
   "source": []
  },
  {
   "cell_type": "code",
   "execution_count": null,
   "metadata": {},
   "outputs": [],
   "source": []
  },
  {
   "cell_type": "code",
   "execution_count": null,
   "metadata": {},
   "outputs": [],
   "source": []
  },
  {
   "cell_type": "code",
   "execution_count": null,
   "metadata": {},
   "outputs": [],
   "source": []
  },
  {
   "cell_type": "code",
   "execution_count": null,
   "metadata": {},
   "outputs": [],
   "source": []
  },
  {
   "cell_type": "code",
   "execution_count": null,
   "metadata": {},
   "outputs": [],
   "source": []
  },
  {
   "cell_type": "code",
   "execution_count": null,
   "metadata": {},
   "outputs": [],
   "source": []
  },
  {
   "cell_type": "code",
   "execution_count": null,
   "metadata": {},
   "outputs": [],
   "source": []
  },
  {
   "cell_type": "code",
   "execution_count": null,
   "metadata": {},
   "outputs": [],
   "source": []
  },
  {
   "cell_type": "code",
   "execution_count": null,
   "metadata": {},
   "outputs": [],
   "source": []
  },
  {
   "cell_type": "code",
   "execution_count": null,
   "metadata": {},
   "outputs": [],
   "source": []
  },
  {
   "cell_type": "code",
   "execution_count": null,
   "metadata": {},
   "outputs": [],
   "source": [
    "\n"
   ]
  },
  {
   "cell_type": "code",
   "execution_count": null,
   "metadata": {},
   "outputs": [],
   "source": []
  },
  {
   "cell_type": "code",
   "execution_count": null,
   "metadata": {},
   "outputs": [],
   "source": []
  },
  {
   "cell_type": "code",
   "execution_count": null,
   "metadata": {},
   "outputs": [],
   "source": []
  },
  {
   "cell_type": "code",
   "execution_count": null,
   "metadata": {},
   "outputs": [],
   "source": []
  },
  {
   "cell_type": "code",
   "execution_count": null,
   "metadata": {},
   "outputs": [],
   "source": []
  },
  {
   "cell_type": "code",
   "execution_count": null,
   "metadata": {},
   "outputs": [],
   "source": []
  },
  {
   "cell_type": "code",
   "execution_count": null,
   "metadata": {},
   "outputs": [],
   "source": []
  },
  {
   "cell_type": "code",
   "execution_count": null,
   "metadata": {},
   "outputs": [],
   "source": []
  },
  {
   "cell_type": "code",
   "execution_count": null,
   "metadata": {},
   "outputs": [],
   "source": []
  },
  {
   "cell_type": "code",
   "execution_count": null,
   "metadata": {},
   "outputs": [],
   "source": []
  },
  {
   "cell_type": "code",
   "execution_count": null,
   "metadata": {},
   "outputs": [],
   "source": []
  },
  {
   "cell_type": "code",
   "execution_count": null,
   "metadata": {},
   "outputs": [],
   "source": []
  },
  {
   "cell_type": "code",
   "execution_count": null,
   "metadata": {},
   "outputs": [],
   "source": []
  },
  {
   "cell_type": "code",
   "execution_count": null,
   "metadata": {},
   "outputs": [],
   "source": []
  },
  {
   "cell_type": "code",
   "execution_count": null,
   "metadata": {},
   "outputs": [],
   "source": []
  },
  {
   "cell_type": "code",
   "execution_count": null,
   "metadata": {},
   "outputs": [],
   "source": []
  },
  {
   "cell_type": "code",
   "execution_count": null,
   "metadata": {},
   "outputs": [],
   "source": []
  },
  {
   "cell_type": "code",
   "execution_count": null,
   "metadata": {},
   "outputs": [],
   "source": []
  },
  {
   "cell_type": "code",
   "execution_count": null,
   "metadata": {},
   "outputs": [],
   "source": []
  },
  {
   "cell_type": "code",
   "execution_count": null,
   "metadata": {},
   "outputs": [],
   "source": []
  },
  {
   "cell_type": "code",
   "execution_count": null,
   "metadata": {},
   "outputs": [],
   "source": [
    "\n",
    "\n"
   ]
  },
  {
   "cell_type": "code",
   "execution_count": null,
   "metadata": {},
   "outputs": [],
   "source": []
  },
  {
   "cell_type": "code",
   "execution_count": null,
   "metadata": {},
   "outputs": [],
   "source": []
  },
  {
   "cell_type": "code",
   "execution_count": null,
   "metadata": {},
   "outputs": [],
   "source": []
  }
 ],
 "metadata": {
  "kernelspec": {
   "display_name": "Clojure",
   "language": "clojure",
   "name": "clojure"
  },
  "language_info": {
   "codemirror_mode": "Clojure",
   "file_extension": ".clj",
   "mimetype": "text/x-clojure",
   "name": "Clojure",
   "nbconverter_exporter": "",
   "version": "1.9.0"
  },
  "toc": {
   "base_numbering": 1,
   "nav_menu": {},
   "number_sections": false,
   "sideBar": true,
   "skip_h1_title": false,
   "title_cell": "Table of Contents",
   "title_sidebar": "Contents",
   "toc_cell": false,
   "toc_position": {
    "height": "calc(100% - 180px)",
    "left": "10px",
    "top": "150px",
    "width": "313px"
   },
   "toc_section_display": true,
   "toc_window_display": false
  }
 },
 "nbformat": 4,
 "nbformat_minor": 2
}
